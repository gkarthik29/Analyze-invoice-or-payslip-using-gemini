{
  "cells": [
    {
      "cell_type": "markdown",
      "metadata": {
        "id": "view-in-github",
        "colab_type": "text"
      },
      "source": [
        "<a href=\"https://colab.research.google.com/github/gkarthik29/Analyze-invoice-or-payslip-using-gemini/blob/main/payslip.ipynb\" target=\"_parent\"><img src=\"https://colab.research.google.com/assets/colab-badge.svg\" alt=\"Open In Colab\"/></a>"
      ]
    },
    {
      "cell_type": "code",
      "source": [
        "!pip install -q -U google-generativeai"
      ],
      "metadata": {
        "id": "EY9fRJiBXdir"
      },
      "execution_count": 2,
      "outputs": []
    },
    {
      "cell_type": "code",
      "source": [
        "import google.generativeai as genai"
      ],
      "metadata": {
        "id": "joPhIy4AXs0-"
      },
      "execution_count": 3,
      "outputs": []
    },
    {
      "cell_type": "code",
      "source": [
        "#api key\n",
        "from google.colab import userdata\n",
        "genai.configure(\n",
        "    api_key=userdata.get('GAPI_KEY')\n",
        ")"
      ],
      "metadata": {
        "id": "iaVAyNIMX4h7"
      },
      "execution_count": 4,
      "outputs": []
    },
    {
      "cell_type": "code",
      "source": [
        "#see models in key\n",
        "for i in genai.list_models():\n",
        "  if 'generateContent' in i.supported_generation_methods:\n",
        "    print(i.name)"
      ],
      "metadata": {
        "colab": {
          "base_uri": "https://localhost:8080/",
          "height": 416
        },
        "id": "80y0Of4zYrLy",
        "outputId": "dbc5cfcc-c13a-4a55-e122-9095ba6abe73"
      },
      "execution_count": 5,
      "outputs": [
        {
          "output_type": "stream",
          "name": "stdout",
          "text": [
            "models/gemini-1.0-pro-latest\n",
            "models/gemini-1.0-pro\n",
            "models/gemini-pro\n",
            "models/gemini-1.0-pro-001\n",
            "models/gemini-1.0-pro-vision-latest\n",
            "models/gemini-pro-vision\n",
            "models/gemini-1.5-pro-latest\n",
            "models/gemini-1.5-pro-001\n",
            "models/gemini-1.5-pro-002\n",
            "models/gemini-1.5-pro\n",
            "models/gemini-1.5-pro-exp-0801\n",
            "models/gemini-1.5-pro-exp-0827\n",
            "models/gemini-1.5-flash-latest\n",
            "models/gemini-1.5-flash-001\n",
            "models/gemini-1.5-flash-001-tuning\n",
            "models/gemini-1.5-flash\n",
            "models/gemini-1.5-flash-exp-0827\n",
            "models/gemini-1.5-flash-002\n",
            "models/gemini-1.5-flash-8b\n",
            "models/gemini-1.5-flash-8b-001\n",
            "models/gemini-1.5-flash-8b-latest\n",
            "models/gemini-1.5-flash-8b-exp-0827\n",
            "models/gemini-1.5-flash-8b-exp-0924\n"
          ]
        }
      ]
    },
    {
      "cell_type": "code",
      "source": [
        "#model config to make model to be specific\n",
        "MODEL_CONFIG = {\n",
        "    'temperature': 0.1,\n",
        "    #'candidate_count': 1,\n",
        "    'top_k': 40,\n",
        "    'top_p': 0.9,\n",
        "    'max_output_tokens':4096,\n",
        "    }\n",
        "\n",
        "#default safety settings by google\n",
        "safety_settings = [\n",
        "    {\n",
        "        \"category\": \"harm_category_sexually_explicit\",\n",
        "        \"threshold\": \"BLOCK_MEDIUM_AND_ABOVE\"\n",
        "    },\n",
        "    {\n",
        "        \"category\": \"harm_category_sexually_explicit\",\n",
        "        \"threshold\": \"BLOCK_MEDIUM_AND_ABOVE\"\n",
        "    },\n",
        "    {\n",
        "        \"category\": \"harm_category_sexually_explicit\",\n",
        "        \"threshold\": \"BLOCK_MEDIUM_AND_ABOVE\"\n",
        "    },\n",
        "    {\n",
        "        \"category\": \"harm_category_dangerous_content\",\n",
        "        \"threshold\": \"BLOCK_MEDIUM_AND_ABOVE\"\n",
        "    }\n",
        "]\n"
      ],
      "metadata": {
        "id": "cA9LUqWMZtyI"
      },
      "execution_count": 6,
      "outputs": []
    },
    {
      "cell_type": "code",
      "source": [
        "#what type of model required for our usecase\n",
        "#for our usecase we need vision model because we need to scan a document and retrieve info from that document"
      ],
      "metadata": {
        "id": "J0ZBCI58cOIa"
      },
      "execution_count": 7,
      "outputs": []
    },
    {
      "cell_type": "code",
      "source": [
        "model = genai.GenerativeModel(model_name=\"gemini-1.5-pro-exp-0801\",\n",
        "                              generation_config = MODEL_CONFIG,\n",
        "                              safety_settings = safety_settings)"
      ],
      "metadata": {
        "id": "7GjtGWBPdD5V"
      },
      "execution_count": 8,
      "outputs": []
    },
    {
      "cell_type": "code",
      "source": [
        "#this code is to get pictures and convert store them as byte format\n",
        "from pathlib import Path\n",
        "\n",
        "def image_format(image_path):\n",
        "  img = Path(image_path)\n",
        "\n",
        "  if not img.exists():\n",
        "    raise FileNotFoundError(f\"File {img} does not exist\")\n",
        "\n",
        "  image_parts = [\n",
        "      {\n",
        "          \"mime_type\":\"image/png\",  \"data\" :img.read_bytes()\n",
        "      }\n",
        "  ]\n",
        "  return image_parts"
      ],
      "metadata": {
        "id": "DhdR4FixdyLd"
      },
      "execution_count": 9,
      "outputs": []
    },
    {
      "cell_type": "markdown",
      "source": [
        "MODEL OUTPUT"
      ],
      "metadata": {
        "id": "BXSc3Pkbi4ku"
      }
    },
    {
      "cell_type": "code",
      "source": [
        "def gemini_output(image_path , system_prompt , user_prompt):\n",
        "  image_parts = image_format(image_path)\n",
        "  input_prompt = [system_prompt, user_prompt,image_parts[0]]\n",
        "  response = model.generate_content(input_prompt)\n",
        "  return response.text"
      ],
      "metadata": {
        "id": "DH821Kjci6qD"
      },
      "execution_count": 10,
      "outputs": []
    },
    {
      "cell_type": "code",
      "source": [
        "system_prompt = \"\"\"\n",
        "               You are a specialist in comprehending receipts.\n",
        "               Input images in the form of receipts will be provided to you,\n",
        "               and your task is to respond to questions based on the content of the input image.\n",
        "               explain it in a neater way.\n",
        "               \"\"\"\n",
        "image_path = \"/content/sample payslip.jpg\"\n",
        "user_prompt = \"give info in key value pairs in dictionary\"\n",
        "gemini_output(image_path,system_prompt,user_prompt)"
      ],
      "metadata": {
        "colab": {
          "base_uri": "https://localhost:8080/",
          "height": 140
        },
        "id": "5ln4N2Ujj2DD",
        "outputId": "ace7e83b-d365-4dfb-8ffa-3e5c1659abdb"
      },
      "execution_count": 11,
      "outputs": [
        {
          "output_type": "execute_result",
          "data": {
            "text/plain": [
              "'Okay, here\\'s the information from the receipt extracted into a dictionary with key-value pairs:\\n\\n```python\\nreceipt_data = {\\n    \"Employee Name\": \"A Sample\",\\n    \"Employee Address\": \"27 The Street\\\\nLondon\\\\nSE8 7AB\",\\n    \"Department\": \"767\",\\n    \"NI No / NI Letter\": \"AB123456B / A\",\\n    \"Tax Code\": \"1257L\",\\n    \"PAYE Reference\": \"034/B859\",\\n    \"Date\": \"28/07/2021\",\\n    \"Month No\": \"04\",\\n    \"Pay Method\": \"BACS\",\\n    \"Contracted Hours\": \"37.50\",\\n    \"Gross Pay YTD\": \"6,542.14\",\\n    \"Taxable Pay YTD\": \"10,676.26\",\\n    \"Tax Paid YTD\": \"1,296.60\",\\n    \"EE NIC YTD\": \"957.51\",\\n    \"EE Pension YTD\": \"490.98\",\\n    \"ER Pension YTD\": \"994.39\",\\n    \"Period Gross Pay\": \"3,474.98\",\\n    \"Period Taxable Pay\": \"3,344.39\",\\n    \"Period NI\\'able Pay\": \"3,474.98\",\\n    \"Period Net Pay\": \"2,563.83\",\\n    \"Period ER NIC\": \"377.84\",\\n    \"Period ER Pension\": \"264.49\",\\n    \"Salary\": \"1,691.92\",\\n    \"Sleep in Supplement (3.00 units)\": \"44.85\",\\n    \"Sleep in Supplement (10.00 units)\": \"149.50\",\\n    \"Sleep in Supplement (1.00 units)\": \"14.95\",\\n    \"Additional Hours (45.50 units)\": \"473.66\",\\n    \"Additional Hours (23.50 units)\": \"244.64\",\\n    \"Additional Hours (7.50 units)\": \"78.08\",\\n    \"Holiday Pay (37.50 units)\": \"147.38\",\\n    \"Sleep In (14.00 units)\": \"52.50\",\\n    \"Employee Pension\": \"-130.59\",\\n    \"Taxable Pay\": \"3,344.39\",\\n    \"Income Tax\": \"-459.20\",\\n    \"NI Contribution\": \"-321.36\",\\n    \"Net Payment\": \"2,563.83\"\\n}\\n```\\n\\n**Explanation:**\\n\\nI\\'ve taken the key information from the receipt, such as employee details, payment details, deductions, and totals, and organized them into a dictionary. Each piece of information is represented as a \"key: value\" pair, where the \"key\" describes the type of information and the \"value\" is the actual information extracted from the receipt.\\n\\nThis format makes it easy to access and use the data programmatically. For example, if you wanted to find the employee\\'s net payment, you could simply access it using `receipt_data[\"Net Payment\"]`. \\n'"
            ],
            "application/vnd.google.colaboratory.intrinsic+json": {
              "type": "string"
            }
          },
          "metadata": {},
          "execution_count": 11
        }
      ]
    },
    {
      "cell_type": "code",
      "source": [
        "system_prompt = \"\"\"\n",
        "               You are a specialist in comprehending receipts.\n",
        "               Input images in the form of receipts will be provided to you,\n",
        "               and your task is to respond to questions based on the content of the input image.\n",
        "               \"\"\"\n",
        "#system_prompt = \"Convert Invoice data into json format with appropriate json tags as required for the data in image \"\n",
        "image_path = \"/content/sample payslip.jpg\"\n",
        "user_prompt = \"Convert Invoice data into json format with appropriate json tags as required for the data in image \""
      ],
      "metadata": {
        "id": "SjhRWjDa-vSm"
      },
      "execution_count": 14,
      "outputs": []
    },
    {
      "cell_type": "code",
      "source": [
        "gemini_output(image_path,system_prompt,user_prompt)"
      ],
      "metadata": {
        "colab": {
          "base_uri": "https://localhost:8080/",
          "height": 140
        },
        "id": "IC6mWqDY-0WJ",
        "outputId": "521ba76d-086b-4688-ca9b-686af1ebc99e"
      },
      "execution_count": 15,
      "outputs": [
        {
          "output_type": "execute_result",
          "data": {
            "text/plain": [
              "'```json\\n{\\n \"employer_name\": \"A Sample\",\\n \"employer_address\": \"27 The Street\\\\nLondon\\\\nSE8 7AB\",\\n \"employee_address\": null,\\n \"department\": \"767\",\\n \"ni_no\": \"AB123456B\",\\n \"ni_letter\": \"A\",\\n \"tax_code\": \"1257L\",\\n \"paye_reference\": \"034/B859\",\\n \"date\": \"28/07/2021\",\\n \"month_no\": \"04\",\\n \"pay_method\": \"BACS\",\\n \"contracted_hours\": \"37.50\",\\n \"gross_pay_ytd\": \"6,542.14\",\\n \"taxable_pay_ytd\": \"10,676.26\",\\n \"tax_paid_ytd\": \"1,296.60\",\\n \"ee_nic_ytd\": \"957.51\",\\n \"ee_pension_ytd\": \"490.98\",\\n \"er_pension_ytd\": \"994.39\",\\n \"period_gross_pay\": \"3,474.98\",\\n \"period_taxable_pay\": \"3,344.39\",\\n \"period_ni\\'able_pay\": \"3,474.98\",\\n \"period_net_pay\": \"2,563.83\",\\n \"period_er_nic\": \"377.84\",\\n \"period_er_pension\": \"264.49\",\\n \"payments\": [\\n  {\\n   \"description\": \"Salary\",\\n   \"unit\": null,\\n   \"rate\": null,\\n   \"amount\": \"1,691.92\"\\n  },\\n  {\\n   \"description\": \"Sleep in Supplement\",\\n   \"unit\": \"3.00\",\\n   \"rate\": \"14.95\",\\n   \"amount\": \"44.85\"\\n  },\\n  {\\n   \"description\": \"Sleep in Supplement\",\\n   \"unit\": \"10.00\",\\n   \"rate\": \"14.95\",\\n   \"amount\": \"149.50\"\\n  },\\n  {\\n   \"description\": \"Sleep in Supplement\",\\n   \"unit\": \"1.00\",\\n   \"rate\": \"14.95\",\\n   \"amount\": \"14.95\"\\n  },\\n  {\\n   \"description\": \"Additional Hours\",\\n   \"unit\": \"45.50\",\\n   \"rate\": \"10.41\",\\n   \"amount\": \"473.66\"\\n  },\\n  {\\n   \"description\": \"Additional Hours\",\\n   \"unit\": \"23.50\",\\n   \"rate\": \"10.41\",\\n   \"amount\": \"244.64\"\\n  },\\n  {\\n   \"description\": \"Additional Hours\",\\n   \"unit\": \"7.50\",\\n   \"rate\": \"10.41\",\\n   \"amount\": \"78.08\"\\n  },\\n  {\\n   \"description\": \"Holiday Pay\",\\n   \"unit\": \"37.50\",\\n   \"rate\": \"3.93\",\\n   \"amount\": \"147.38\"\\n  },\\n  {\\n   \"description\": \"Sleep In\",\\n   \"unit\": \"14.00\",\\n   \"rate\": \"45.00\",\\n   \"amount\": \"630.00\"\\n  },\\n  {\\n   \"description\": \"Employee Pension\",\\n   \"unit\": null,\\n   \"rate\": null,\\n   \"amount\": \"-130.59\"\\n  }\\n ],\\n \"deductions\": [\\n  {\\n   \"description\": \"Income tax\",\\n   \"amount\": \"-459.20\"\\n  },\\n  {\\n   \"description\": \"NI Contribution\",\\n   \"amount\": \"-321.36\"\\n  }\\n ],\\n \"taxable_pay\": \"3,344.39\",\\n \"net_payment\": \"2,563.83\"\\n}\\n```'"
            ],
            "application/vnd.google.colaboratory.intrinsic+json": {
              "type": "string"
            }
          },
          "metadata": {},
          "execution_count": 15
        }
      ]
    },
    {
      "cell_type": "code",
      "source": [
        "from IPython.display import Markdown\n",
        "Markdown(gemini_output(image_path,system_prompt,user_prompt))\n"
      ],
      "metadata": {
        "colab": {
          "base_uri": "https://localhost:8080/",
          "height": 1000
        },
        "id": "oY5W5QTd_FZp",
        "outputId": "6f83f728-685a-47b3-dbb4-b2c8943d29a5"
      },
      "execution_count": 16,
      "outputs": [
        {
          "output_type": "execute_result",
          "data": {
            "text/plain": [
              "<IPython.core.display.Markdown object>"
            ],
            "text/markdown": "```json\n{\n \"employer_name\": \"A Sample\",\n \"employer_address\": \"27 The Street\\nLondon\\nSE8 7AB\",\n \"employee_address\": null,\n \"department\": \"767\",\n \"ni_no\": \"AB123456B\",\n \"ni_letter\": \"A\",\n \"tax_code\": \"1257L\",\n \"paye_reference\": \"034/B859\",\n \"date\": \"28/07/2021\",\n \"month_no\": \"04\",\n \"pay_method\": \"BACS\",\n \"contracted_hours\": \"37.50\",\n \"gross_pay_ytd\": \"6,542.14\",\n \"taxable_pay_ytd\": \"10,676.26\",\n \"tax_paid_ytd\": \"1,296.60\",\n \"ee_nic_ytd\": \"957.51\",\n \"ee_pension_ytd\": \"490.98\",\n \"er_pension_ytd\": \"994.39\",\n \"period_gross_pay\": \"3,474.98\",\n \"period_taxable_pay\": \"3,344.39\",\n \"period_ni'able_pay\": \"3,474.98\",\n \"period_net_pay\": \"2,563.83\",\n \"period_er_nic\": \"377.84\",\n \"period_er_pension\": \"264.49\",\n \"payments\": [\n  {\n   \"description\": \"Salary\",\n   \"unit\": null,\n   \"rate\": null,\n   \"amount\": \"1,691.92\"\n  },\n  {\n   \"description\": \"Sleep in Supplement\",\n   \"unit\": \"3.00\",\n   \"rate\": \"14.95\",\n   \"amount\": \"44.85\"\n  },\n  {\n   \"description\": \"Sleep in Supplement\",\n   \"unit\": \"10.00\",\n   \"rate\": \"14.95\",\n   \"amount\": \"149.50\"\n  },\n  {\n   \"description\": \"Sleep in Supplement\",\n   \"unit\": \"1.00\",\n   \"rate\": \"14.95\",\n   \"amount\": \"14.95\"\n  },\n  {\n   \"description\": \"Additional Hours\",\n   \"unit\": \"45.50\",\n   \"rate\": \"10.41\",\n   \"amount\": \"473.66\"\n  },\n  {\n   \"description\": \"Additional Hours\",\n   \"unit\": \"23.50\",\n   \"rate\": \"10.41\",\n   \"amount\": \"244.64\"\n  },\n  {\n   \"description\": \"Additional Hours\",\n   \"unit\": \"7.50\",\n   \"rate\": \"10.41\",\n   \"amount\": \"78.08\"\n  },\n  {\n   \"description\": \"Holiday Pay\",\n   \"unit\": \"37.50\",\n   \"rate\": \"3.93\",\n   \"amount\": \"147.38\"\n  },\n  {\n   \"description\": \"Sleep In\",\n   \"unit\": \"14.00\",\n   \"rate\": \"45.00\",\n   \"amount\": \"630.00\"\n  },\n  {\n   \"description\": \"Employee Pension\",\n   \"unit\": null,\n   \"rate\": null,\n   \"amount\": \"-130.59\"\n  }\n ],\n \"deductions\": [\n  {\n   \"description\": \"Income tax\",\n   \"amount\": \"-459.20\"\n  },\n  {\n   \"description\": \"NI Contribution\",\n   \"amount\": \"-321.36\"\n  }\n ],\n \"taxable_pay\": \"3,344.39\",\n \"net_payment\": \"2,563.83\"\n}\n```"
          },
          "metadata": {},
          "execution_count": 16
        }
      ]
    }
  ],
  "metadata": {
    "colab": {
      "name": "Welcome to Colaboratory",
      "provenance": [],
      "include_colab_link": true
    },
    "kernelspec": {
      "display_name": "Python 3",
      "name": "python3"
    }
  },
  "nbformat": 4,
  "nbformat_minor": 0
}